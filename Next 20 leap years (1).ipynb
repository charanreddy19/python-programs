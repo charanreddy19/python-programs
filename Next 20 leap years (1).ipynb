{
 "cells": [
  {
   "cell_type": "code",
   "execution_count": 4,
   "metadata": {},
   "outputs": [
    {
     "name": "stdout",
     "output_type": "stream",
     "text": [
      "[2088, 2096, 2168, 2188, 2196, 2268, 2276, 2288, 2296, 2348, 2368, 2376, 2384, 2388, 2396, 2448, 2456, 2468, 2476, 2484]\n"
     ]
    }
   ],
   "source": [
    "########## (program to print next 20 leap years and sum of digits of year>16)############\n",
    "\n",
    "\n",
    "\n",
    "# define empty list\n",
    "li=[]\n",
    "# iterate i in range(2021,3000)\n",
    "for i in range(2021,3000):\n",
    "    #checking if length of li>20 terminate the loop\n",
    "    if len(li)>20:\n",
    "        break\n",
    "    #if length of li<20 continue the loop   \n",
    "    elif len(li)<20:\n",
    "        sum=0\n",
    "        for j in str(i):\n",
    "            sum+=int(j)\n",
    "        if sum>16:\n",
    "            #checking for leap year conditions if satisfy append to li\n",
    "            if i%400==0:\n",
    "                li.append(i)\n",
    "            elif i%100==0:\n",
    "                pass\n",
    "            elif i%4==0:\n",
    "                li.append(i)\n",
    "            else:\n",
    "                pass\n",
    "#print the final list            \n",
    "print(li)\n",
    "    "
   ]
  },
  {
   "cell_type": "code",
   "execution_count": 5,
   "metadata": {},
   "outputs": [
    {
     "name": "stdout",
     "output_type": "stream",
     "text": [
      "redivider\n",
      "given string is polyndrome\n"
     ]
    }
   ],
   "source": [
    "############ (program to check given string is polyndrome or not)##############\n",
    "\n",
    "\n",
    "#make the string a to be user defined\n",
    "a=input()  \n",
    "#to iterate i in length of string\n",
    "for i in range(len(a)):                             \n",
    "    # checking string if it is equal to its reverse\n",
    "    if a[i]!=a[len(a)-(i+1)]:\n",
    "        print('given string is not a polyndrome')\n",
    "        #stop the iteration if it not satisfy the above condition\n",
    "        break\n",
    "#print given string is polyndrome\n",
    "else:\n",
    "    print('given string is polyndrome')\n",
    "    "
   ]
  },
  {
   "cell_type": "code",
   "execution_count": null,
   "metadata": {},
   "outputs": [],
   "source": []
  }
 ],
 "metadata": {
  "kernelspec": {
   "display_name": "Python 3",
   "language": "python",
   "name": "python3"
  },
  "language_info": {
   "codemirror_mode": {
    "name": "ipython",
    "version": 3
   },
   "file_extension": ".py",
   "mimetype": "text/x-python",
   "name": "python",
   "nbconvert_exporter": "python",
   "pygments_lexer": "ipython3",
   "version": "3.7.6"
  }
 },
 "nbformat": 4,
 "nbformat_minor": 4
}
