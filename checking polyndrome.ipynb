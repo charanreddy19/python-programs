{
 "cells": [
  {
   "cell_type": "code",
   "execution_count": 12,
   "metadata": {},
   "outputs": [
    {
     "name": "stdout",
     "output_type": "stream",
     "text": [
      "chhc\n",
      "given string is polyndrome\n"
     ]
    }
   ],
   "source": [
    "#make the string a to be user defined\n",
    "a=input()  \n",
    "#to iterate i in length of string\n",
    "for i in range(len(a)):                             \n",
    "    # checking string if it is equal to its reverse\n",
    "    if a[i]!=a[len(a)-(i+1)]:\n",
    "        print('given string is not a polyndrome')\n",
    "        #stop the iteration if it not satisfy the above condition\n",
    "        break\n",
    "#print given string is polyndrome\n",
    "else:\n",
    "    print('given string is polyndrome')\n",
    "    "
   ]
  }
 ],
 "metadata": {
  "kernelspec": {
   "display_name": "Python 3",
   "language": "python",
   "name": "python3"
  },
  "language_info": {
   "codemirror_mode": {
    "name": "ipython",
    "version": 3
   },
   "file_extension": ".py",
   "mimetype": "text/x-python",
   "name": "python",
   "nbconvert_exporter": "python",
   "pygments_lexer": "ipython3",
   "version": "3.7.6"
  }
 },
 "nbformat": 4,
 "nbformat_minor": 4
}
